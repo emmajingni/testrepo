{
 "cells": [
  {
   "cell_type": "markdown",
   "id": "8183af5c-8835-497c-b281-496503c41cdd",
   "metadata": {},
   "source": [
    "# Data Science Tools and Ecosystem"
   ]
  },
  {
   "cell_type": "markdown",
   "id": "81eab5ab-a72a-4c0d-a5fd-0ec3cb091a00",
   "metadata": {},
   "source": [
    "In this notebook, Data Science Tools and Ecosystem are summarized."
   ]
  },
  {
   "cell_type": "markdown",
   "id": "97c4ab30-4bb7-49b0-b6d1-28f1ef65a071",
   "metadata": {},
   "source": [
    "**Objectives:**\n",
    "* List popular languages for Data Science\n",
    "* List commonly used libraries\n",
    "* List commonly used Data Science Tools"
   ]
  },
  {
   "cell_type": "markdown",
   "id": "13c0e5c9-f606-410e-9ea9-2c786736baa2",
   "metadata": {},
   "source": [
    "Some of the popular languages that Data Scientists use are:\n",
    "1. Python\n",
    "2. C++\n",
    "3. R"
   ]
  },
  {
   "cell_type": "markdown",
   "id": "a91c20ba-a74c-4536-9625-59ecab731784",
   "metadata": {},
   "source": [
    "Some of the commonly used libraries used by Data Scientists include:\n",
    "1. Pandas\n",
    "2. Numpy\n",
    "3. Matplotlib"
   ]
  },
  {
   "cell_type": "markdown",
   "id": "5f342b7e-1e44-4625-8633-17446bf3c9bd",
   "metadata": {},
   "source": [
    "Some of the commonly used Data Science Tools include:\n",
    "|Data Science Tools|\n",
    "|---|\n",
    "|Python|\n",
    "|R|\n",
    "|SQL|"
   ]
  },
  {
   "cell_type": "markdown",
   "id": "2fae050e-cd73-40d5-8343-0bdd595dabd7",
   "metadata": {},
   "source": [
    "### Below are a few examples of evaluating arithmetic expressions in Python"
   ]
  },
  {
   "cell_type": "code",
   "execution_count": 1,
   "id": "bdad249c-6b53-4c8e-8f7e-d3ebbe0e77ca",
   "metadata": {},
   "outputs": [
    {
     "data": {
      "text/plain": [
       "17"
      ]
     },
     "execution_count": 1,
     "metadata": {},
     "output_type": "execute_result"
    }
   ],
   "source": [
    "#This a simple arithmetic expression to mutiply then add integers\n",
    "(3*4)+5"
   ]
  },
  {
   "cell_type": "code",
   "execution_count": 2,
   "id": "f7a6dd02-9d64-440d-9aef-acc711e1c4db",
   "metadata": {},
   "outputs": [
    {
     "data": {
      "text/plain": [
       "3.3333333333333335"
      ]
     },
     "execution_count": 2,
     "metadata": {},
     "output_type": "execute_result"
    }
   ],
   "source": [
    "#This will convert 200 minutes to hours by diving by 60\n",
    "200/60"
   ]
  },
  {
   "cell_type": "markdown",
   "id": "4924b007-33d8-4532-b082-a2a2af1b179e",
   "metadata": {},
   "source": [
    "## Author\n",
    "emmajingni"
   ]
  },
  {
   "cell_type": "code",
   "execution_count": null,
   "id": "c7add1de-b3b9-4d9e-9c09-815c8fe5ded4",
   "metadata": {},
   "outputs": [],
   "source": []
  }
 ],
 "metadata": {
  "kernelspec": {
   "display_name": "Python 3 (ipykernel)",
   "language": "python",
   "name": "python3"
  },
  "language_info": {
   "codemirror_mode": {
    "name": "ipython",
    "version": 3
   },
   "file_extension": ".py",
   "mimetype": "text/x-python",
   "name": "python",
   "nbconvert_exporter": "python",
   "pygments_lexer": "ipython3",
   "version": "3.10.4"
  }
 },
 "nbformat": 4,
 "nbformat_minor": 5
}
